{
 "cells": [
  {
   "cell_type": "code",
   "execution_count": 1,
   "metadata": {},
   "outputs": [
    {
     "name": "stdout",
     "output_type": "stream",
     "text": [
      "Requirement already satisfied: nltk in c:\\programdata\\anaconda3\\lib\\site-packages (3.5)\n",
      "Requirement already satisfied: tqdm in c:\\programdata\\anaconda3\\lib\\site-packages (from nltk) (4.50.2)\n",
      "Requirement already satisfied: joblib in c:\\programdata\\anaconda3\\lib\\site-packages (from nltk) (0.17.0)\n",
      "Requirement already satisfied: click in c:\\programdata\\anaconda3\\lib\\site-packages (from nltk) (7.1.2)\n",
      "Requirement already satisfied: regex in c:\\programdata\\anaconda3\\lib\\site-packages (from nltk) (2020.10.15)\n",
      "Note: you may need to restart the kernel to use updated packages.\n"
     ]
    }
   ],
   "source": [
    "# install nltk libraby\n",
    "pip install nltk"
   ]
  },
  {
   "cell_type": "code",
   "execution_count": 1,
   "metadata": {},
   "outputs": [],
   "source": [
    "# importing libraries\n",
    "import nltk\n",
    "# nltk.download()"
   ]
  },
  {
   "cell_type": "code",
   "execution_count": 2,
   "metadata": {},
   "outputs": [
    {
     "name": "stderr",
     "output_type": "stream",
     "text": [
      "[nltk_data] Downloading package punkt to\n",
      "[nltk_data]     C:\\Users\\Gaurab\\AppData\\Roaming\\nltk_data...\n",
      "[nltk_data]   Unzipping tokenizers\\punkt.zip.\n"
     ]
    },
    {
     "data": {
      "text/plain": [
       "True"
      ]
     },
     "execution_count": 2,
     "metadata": {},
     "output_type": "execute_result"
    }
   ],
   "source": [
    "# download the data file\n",
    "nltk.download('punkt')"
   ]
  },
  {
   "cell_type": "code",
   "execution_count": 7,
   "metadata": {},
   "outputs": [
    {
     "name": "stdout",
     "output_type": "stream",
     "text": [
      "Word tokenization: ['hello', 'world', '!', 'how', 'are', 'you', '?', 'What', 'are', 'you', 'doing', '.']\n",
      "Sentence tokenization: ['hello world!', 'how are you?', 'What are you doing.']\n"
     ]
    }
   ],
   "source": [
    "# tokenization\n",
    "data = 'hello world! how are you? What are you doing.'\n",
    "print('Word tokenization:',nltk.word_tokenize(data))\n",
    "print('Sentence tokenization:',nltk.sent_tokenize(data))"
   ]
  },
  {
   "cell_type": "code",
   "execution_count": 11,
   "metadata": {},
   "outputs": [
    {
     "name": "stderr",
     "output_type": "stream",
     "text": [
      "[nltk_data] Downloading package averaged_perceptron_tagger to\n",
      "[nltk_data]     C:\\Users\\Gaurab\\AppData\\Roaming\\nltk_data...\n",
      "[nltk_data]   Package averaged_perceptron_tagger is already up-to-\n",
      "[nltk_data]       date!\n"
     ]
    },
    {
     "data": {
      "text/plain": [
       "[('i', 'NN'), ('am', 'VBP'), ('eating', 'VBG')]"
      ]
     },
     "execution_count": 11,
     "metadata": {},
     "output_type": "execute_result"
    }
   ],
   "source": [
    "# POS tagging\n",
    "# nltk.download('averaged_perceptron_tagger')\n",
    "data = 'i am eating'\n",
    "nltk.pos_tag(nltk.word_tokenize(data))"
   ]
  },
  {
   "cell_type": "code",
   "execution_count": 21,
   "metadata": {},
   "outputs": [
    {
     "name": "stdout",
     "output_type": "stream",
     "text": [
      "[('we', 'PRP'), ('will', 'MD'), ('see', 'VB'), ('a', 'DT'), ('chunking', 'NN'), ('example', 'NN')]\n",
      "(S we/PRP will/MD (my_pos see/VB a/DT) chunking/NN example/NN)\n"
     ]
    }
   ],
   "source": [
    "# chunking\n",
    "data = 'we will see a chunking example'\n",
    "pos = nltk.pos_tag(nltk.word_tokenize(data))\n",
    "print(pos)\n",
    "\n",
    "my_dict = \"my_pos: {<VB>*<DT>}\"\n",
    "chunk = nltk.RegexpParser(my_dict)\n",
    "result = chunk.parse(pos)\n",
    "# result\n",
    "print(result)\n",
    "result.draw()"
   ]
  },
  {
   "cell_type": "code",
   "execution_count": 24,
   "metadata": {},
   "outputs": [
    {
     "name": "stdout",
     "output_type": "stream",
     "text": [
      "['i', 'me', 'my', 'myself', 'we', 'our', 'ours', 'ourselves', 'you', \"you're\", \"you've\", \"you'll\", \"you'd\", 'your', 'yours', 'yourself', 'yourselves', 'he', 'him', 'his', 'himself', 'she', \"she's\", 'her', 'hers', 'herself', 'it', \"it's\", 'its', 'itself', 'they', 'them', 'their', 'theirs', 'themselves', 'what', 'which', 'who', 'whom', 'this', 'that', \"that'll\", 'these', 'those', 'am', 'is', 'are', 'was', 'were', 'be', 'been', 'being', 'have', 'has', 'had', 'having', 'do', 'does', 'did', 'doing', 'a', 'an', 'the', 'and', 'but', 'if', 'or', 'because', 'as', 'until', 'while', 'of', 'at', 'by', 'for', 'with', 'about', 'against', 'between', 'into', 'through', 'during', 'before', 'after', 'above', 'below', 'to', 'from', 'up', 'down', 'in', 'out', 'on', 'off', 'over', 'under', 'again', 'further', 'then', 'once', 'here', 'there', 'when', 'where', 'why', 'how', 'all', 'any', 'both', 'each', 'few', 'more', 'most', 'other', 'some', 'such', 'no', 'nor', 'not', 'only', 'own', 'same', 'so', 'than', 'too', 'very', 's', 't', 'can', 'will', 'just', 'don', \"don't\", 'should', \"should've\", 'now', 'd', 'll', 'm', 'o', 're', 've', 'y', 'ain', 'aren', \"aren't\", 'couldn', \"couldn't\", 'didn', \"didn't\", 'doesn', \"doesn't\", 'hadn', \"hadn't\", 'hasn', \"hasn't\", 'haven', \"haven't\", 'isn', \"isn't\", 'ma', 'mightn', \"mightn't\", 'mustn', \"mustn't\", 'needn', \"needn't\", 'shan', \"shan't\", 'shouldn', \"shouldn't\", 'wasn', \"wasn't\", 'weren', \"weren't\", 'won', \"won't\", 'wouldn', \"wouldn't\"]\n"
     ]
    }
   ],
   "source": [
    "# stopwords\n",
    "# nltk.download('stopwords')\n",
    "from nltk.corpus import stopwords\n",
    "a = stopwords.words('english')\n",
    "print(a)\n",
    "# data = 'we will see a stopword example'"
   ]
  },
  {
   "cell_type": "code",
   "execution_count": 13,
   "metadata": {},
   "outputs": [
    {
     "name": "stdout",
     "output_type": "stream",
     "text": [
      "['going', 'office', 'bike', 'saw', 'car', 'passing', 'hit', 'tree', '.']\n"
     ]
    }
   ],
   "source": [
    "sent = \"I was going to office on my bike when I saw a car passing by hit the tree.\"\n",
    "# lst = nltk.word_tokenize(sent)\n",
    "lst = nltk.word_tokenize(sent.lower())\n",
    "new = []\n",
    "for word in lst:\n",
    "    if word not in stopwords.words('english'):\n",
    "        new.append(word)\n",
    "print(new)"
   ]
  },
  {
   "cell_type": "code",
   "execution_count": 14,
   "metadata": {},
   "outputs": [
    {
     "data": {
      "text/plain": [
       "'!\"#$%&\\'()*+,-./:;<=>?@[\\\\]^_`{|}~'"
      ]
     },
     "execution_count": 14,
     "metadata": {},
     "output_type": "execute_result"
    }
   ],
   "source": [
    "import string\n",
    "\n",
    "punct = string.punctuation\n",
    "punct"
   ]
  },
  {
   "cell_type": "code",
   "execution_count": 16,
   "metadata": {},
   "outputs": [
    {
     "name": "stdout",
     "output_type": "stream",
     "text": [
      "['going', 'office', 'bike', 'saw', 'car', 'passing', 'hit', 'tree']\n"
     ]
    }
   ],
   "source": [
    "lst = nltk.word_tokenize(sent.lower())\n",
    "new = []\n",
    "for word in lst:\n",
    "    if word not in stopwords.words('english'):\n",
    "        if word not in string.punctuation:\n",
    "            new.append(word)\n",
    "print(new)"
   ]
  },
  {
   "cell_type": "code",
   "execution_count": 17,
   "metadata": {},
   "outputs": [
    {
     "name": "stdout",
     "output_type": "stream",
     "text": [
      "['india', 'hindi', 'bhārat', 'officially', 'republic', 'india', 'hindi', 'bhārat', 'gaṇarājya', '23', 'country', 'south', 'asia', 'second-most', 'populous', 'country', 'seventh-largest', 'country', 'land', 'area', 'populous', 'democracy', 'world', 'bounded', 'indian', 'ocean', 'south', 'arabian', 'sea', 'southwest', 'bay', 'bengal', 'southeast', 'shares', 'land', 'borders', 'pakistan', 'west', 'f', 'china', 'nepal', 'bhutan', 'north', 'bangladesh', 'myanmar', 'east', 'indian', 'ocean', 'india', 'vicinity', 'sri', 'lanka', 'maldives', 'andaman', 'nicobar', 'islands', 'share', 'maritime', 'border', 'thailand', 'indonesia']\n"
     ]
    }
   ],
   "source": [
    "data = \"India (Hindi: Bhārat), officially the Republic of India (Hindi: Bhārat Gaṇarājya),[23] is a country in South Asia. It is the second-most populous country, the seventh-largest country by land area, and the most populous democracy in the world. Bounded by the Indian Ocean on the south, the Arabian Sea on the southwest, and the Bay of Bengal on the southeast, it shares land borders with Pakistan to the west;[f] China, Nepal, and Bhutan to the north; and Bangladesh and Myanmar to the east. In the Indian Ocean, India is in the vicinity of Sri Lanka and the Maldives; its Andaman and Nicobar Islands share a maritime border with Thailand and Indonesia.\"\n",
    "clean = []\n",
    "for word in nltk.word_tokenize(data.lower()):\n",
    "    if word not in stopwords.words('english'):\n",
    "        if word not in string.punctuation:\n",
    "            clean.append(word)\n",
    "print(clean)"
   ]
  },
  {
   "cell_type": "code",
   "execution_count": 18,
   "metadata": {},
   "outputs": [
    {
     "data": {
      "text/plain": [
       "[('india', 'NN'),\n",
       " ('hindi', 'NN'),\n",
       " ('bhārat', 'NN'),\n",
       " ('officially', 'RB'),\n",
       " ('republic', 'JJ'),\n",
       " ('india', 'NN'),\n",
       " ('hindi', 'NN'),\n",
       " ('bhārat', 'NN'),\n",
       " ('gaṇarājya', 'VBD'),\n",
       " ('23', 'CD'),\n",
       " ('country', 'NN'),\n",
       " ('south', 'JJ'),\n",
       " ('asia', 'JJ'),\n",
       " ('second-most', 'JJ'),\n",
       " ('populous', 'JJ'),\n",
       " ('country', 'NN'),\n",
       " ('seventh-largest', 'JJ'),\n",
       " ('country', 'NN'),\n",
       " ('land', 'NN'),\n",
       " ('area', 'NN'),\n",
       " ('populous', 'JJ'),\n",
       " ('democracy', 'NN'),\n",
       " ('world', 'NN'),\n",
       " ('bounded', 'VBD'),\n",
       " ('indian', 'JJ'),\n",
       " ('ocean', 'NN'),\n",
       " ('south', 'NN'),\n",
       " ('arabian', 'JJ'),\n",
       " ('sea', 'NN'),\n",
       " ('southwest', 'JJS'),\n",
       " ('bay', 'NN'),\n",
       " ('bengal', 'NN'),\n",
       " ('southeast', 'NN'),\n",
       " ('shares', 'NNS'),\n",
       " ('land', 'VBP'),\n",
       " ('borders', 'NNS'),\n",
       " ('pakistan', 'VBP'),\n",
       " ('west', 'JJS'),\n",
       " ('f', 'JJ'),\n",
       " ('china', 'NN'),\n",
       " ('nepal', 'JJ'),\n",
       " ('bhutan', 'JJ'),\n",
       " ('north', 'NN'),\n",
       " ('bangladesh', 'JJ'),\n",
       " ('myanmar', 'NN'),\n",
       " ('east', 'JJ'),\n",
       " ('indian', 'JJ'),\n",
       " ('ocean', 'NN'),\n",
       " ('india', 'VBP'),\n",
       " ('vicinity', 'NN'),\n",
       " ('sri', 'NN'),\n",
       " ('lanka', 'NN'),\n",
       " ('maldives', 'VBZ'),\n",
       " ('andaman', 'JJ'),\n",
       " ('nicobar', 'NN'),\n",
       " ('islands', 'NNS'),\n",
       " ('share', 'NN'),\n",
       " ('maritime', 'JJ'),\n",
       " ('border', 'NN'),\n",
       " ('thailand', 'NN'),\n",
       " ('indonesia', 'NN')]"
      ]
     },
     "execution_count": 18,
     "metadata": {},
     "output_type": "execute_result"
    }
   ],
   "source": [
    "nltk.pos_tag(clean)"
   ]
  },
  {
   "cell_type": "code",
   "execution_count": 28,
   "metadata": {},
   "outputs": [
    {
     "name": "stdout",
     "output_type": "stream",
     "text": [
      "--------Porter----------\n",
      "hobbi\n",
      "hobbi\n",
      "comput\n",
      "comput\n",
      "goe\n",
      "go\n",
      "gone\n",
      "histori\n",
      "histor\n",
      "final\n",
      "final\n",
      "final\n",
      "--------Lancaster----------\n",
      "hobby\n",
      "hobby\n",
      "comput\n",
      "comput\n",
      "goe\n",
      "going\n",
      "gon\n",
      "hist\n",
      "hist\n",
      "fin\n",
      "fin\n",
      "fin\n",
      "--------Snowball----------\n",
      "hobbi\n",
      "hobbi\n",
      "comput\n",
      "comput\n",
      "goe\n",
      "go\n",
      "gone\n",
      "histori\n",
      "histor\n",
      "final\n",
      "final\n",
      "final\n"
     ]
    }
   ],
   "source": [
    "# Stemming\n",
    "# libraries - porter, lancaster, snowball\n",
    "from nltk.stem import PorterStemmer, LancasterStemmer, SnowballStemmer\n",
    "porter = PorterStemmer()\n",
    "lancaster = LancasterStemmer()\n",
    "snowball = SnowballStemmer('english')\n",
    "\n",
    "print('--------Porter----------')\n",
    "print(porter.stem('hobbies'))\n",
    "print(porter.stem('hobby'))\n",
    "print(porter.stem('computer'))\n",
    "print(porter.stem('computation'))\n",
    "print(porter.stem('goes'))\n",
    "print(porter.stem('going'))\n",
    "print(porter.stem('gone'))\n",
    "print(porter.stem('history'))\n",
    "print(porter.stem('historical'))\n",
    "print(porter.stem('finally'))\n",
    "print(porter.stem('final'))\n",
    "print(porter.stem('finalized'))\n",
    "\n",
    "print('--------Lancaster----------')\n",
    "print(lancaster.stem('hobbies'))\n",
    "print(lancaster.stem('hobby'))\n",
    "print(lancaster.stem('computer'))\n",
    "print(lancaster.stem('computation'))\n",
    "print(lancaster.stem('goes'))\n",
    "print(lancaster.stem('going'))\n",
    "print(lancaster.stem('gone'))\n",
    "print(lancaster.stem('history'))\n",
    "print(lancaster.stem('historical'))\n",
    "print(lancaster.stem('finally'))\n",
    "print(lancaster.stem('final'))\n",
    "print(lancaster.stem('finalized'))\n",
    "\n",
    "print('--------Snowball----------')\n",
    "print(snowball.stem('hobbies'))\n",
    "print(snowball.stem('hobby'))\n",
    "print(snowball.stem('computer'))\n",
    "print(snowball.stem('computation'))\n",
    "print(snowball.stem('goes'))\n",
    "print(snowball.stem('going'))\n",
    "print(snowball.stem('gone'))\n",
    "print(snowball.stem('history'))\n",
    "print(snowball.stem('historical'))\n",
    "print(snowball.stem('finally'))\n",
    "print(snowball.stem('final'))\n",
    "print(snowball.stem('finalized'))"
   ]
  },
  {
   "cell_type": "code",
   "execution_count": 38,
   "metadata": {},
   "outputs": [
    {
     "name": "stdout",
     "output_type": "stream",
     "text": [
      "<PorterStemmer>\n",
      "I wa go to offic on my bike when I saw a car pass by hit the tree .\n",
      "<LancasterStemmer>\n",
      "i was going to off on my bik when i saw a car pass by hit the tre .\n",
      "<nltk.stem.snowball.SnowballStemmer object at 0x000001A73829D9A0>\n",
      "i was go to offic on my bike when i saw a car pass by hit the tree .\n"
     ]
    }
   ],
   "source": [
    "sent = \"I was going to office on my bike when I saw a car passing by hit the tree.\"\n",
    "for stemmer in (porter, lancaster, snowball):\n",
    "    print(stemmer)\n",
    "    stem = [stemmer.stem(i) for i in nltk.word_tokenize(sent)]\n",
    "    print(' '.join(stem))"
   ]
  },
  {
   "cell_type": "code",
   "execution_count": 41,
   "metadata": {},
   "outputs": [
    {
     "name": "stderr",
     "output_type": "stream",
     "text": [
      "[nltk_data] Downloading package wordnet to\n",
      "[nltk_data]     C:\\Users\\Gaurab\\AppData\\Roaming\\nltk_data...\n",
      "[nltk_data]   Package wordnet is already up-to-date!\n"
     ]
    },
    {
     "name": "stdout",
     "output_type": "stream",
     "text": [
      "running\n",
      "run\n",
      "runner\n"
     ]
    }
   ],
   "source": [
    "# Lemmatization\n",
    "# nltk.download('wordnet')\n",
    "from nltk.stem import WordNetLemmatizer\n",
    "\n",
    "lemma = WordNetLemmatizer()\n",
    "\n",
    "print(lemma.lemmatize('running'))\n",
    "print(lemma.lemmatize('runs'))\n",
    "print(lemma.lemmatize('runner'))"
   ]
  },
  {
   "cell_type": "code",
   "execution_count": 44,
   "metadata": {},
   "outputs": [
    {
     "name": "stdout",
     "output_type": "stream",
     "text": [
      "run\n",
      "run\n",
      "run\n"
     ]
    }
   ],
   "source": [
    "print(lemma.lemmatize('running', pos='v'))\n",
    "print(lemma.lemmatize('runs', pos='v'))\n",
    "print(lemma.lemmatize('ran', pos='v'))"
   ]
  },
  {
   "cell_type": "code",
   "execution_count": 6,
   "metadata": {},
   "outputs": [
    {
     "name": "stdout",
     "output_type": "stream",
     "text": [
      "(S\n",
      "  (GPE India/NNP)\n",
      "  ,/,\n",
      "  officially/RB\n",
      "  the/DT\n",
      "  republic/NN\n",
      "  of/IN\n",
      "  (GPE India/NNP)\n",
      "  ,/,\n",
      "  is/VBZ\n",
      "  a/DT\n",
      "  country/NN\n",
      "  in/IN\n",
      "  (GPE South/NNP Asia/NNP))\n"
     ]
    }
   ],
   "source": [
    "# NER (Name Entity Recognition)\n",
    "# nltk.download('maxent_ne_chunker')\n",
    "# nltk.download('words')\n",
    "\n",
    "text = \"India, officially the republic of India, is a country in South Asia\"\n",
    "word = nltk.word_tokenize(text)\n",
    "pos = nltk.pos_tag(word)\n",
    "name_entity = nltk.ne_chunk(pos)\n",
    "print(name_entity)\n",
    "print(nltk.ne_chunk(nltk.pos_tag(nltk.word_tokenize(text))))"
   ]
  },
  {
   "cell_type": "code",
   "execution_count": 7,
   "metadata": {},
   "outputs": [
    {
     "name": "stdout",
     "output_type": "stream",
     "text": [
      "Collecting inflect\n",
      "  Downloading inflect-5.0.2-py3-none-any.whl (31 kB)\n",
      "Installing collected packages: inflect\n",
      "Successfully installed inflect-5.0.2\n",
      "Note: you may need to restart the kernel to use updated packages.\n"
     ]
    }
   ],
   "source": [
    "pip install inflect"
   ]
  },
  {
   "cell_type": "code",
   "execution_count": 4,
   "metadata": {},
   "outputs": [
    {
     "data": {
      "text/plain": [
       "'three hundred'"
      ]
     },
     "execution_count": 4,
     "metadata": {},
     "output_type": "execute_result"
    }
   ],
   "source": [
    "import inflect\n",
    "num_to_words = inflect.engine()\n",
    "word = num_to_words.number_to_words('300')\n",
    "word"
   ]
  },
  {
   "cell_type": "code",
   "execution_count": 17,
   "metadata": {},
   "outputs": [
    {
     "name": "stdout",
     "output_type": "stream",
     "text": [
      "['The', 'original', 'examples', 'are', 'the', 'natural', 'numbers', 'one', ',', 'two', ',', 'three', ',', 'four', ',', 'one hundred', 'and', 'so', 'forth', '.']\n",
      "The original examples are the natural numbers one , two , three , four , one hundred and so forth .\n"
     ]
    }
   ],
   "source": [
    "import re\n",
    "data = \"The original examples are the natural numbers 1, 2, 3, 4, 100 and so forth.\"\n",
    "new = []\n",
    "for word in nltk.word_tokenize(data):\n",
    "    if re.match('\\d+', word):\n",
    "#     if word.isdigit():\n",
    "        word = num_to_words.number_to_words(word)\n",
    "    new.append(word)\n",
    "print(new)\n",
    "new_str = ' '.join(new)\n",
    "print(new_str)"
   ]
  },
  {
   "cell_type": "code",
   "execution_count": 22,
   "metadata": {},
   "outputs": [
    {
     "name": "stdout",
     "output_type": "stream",
     "text": [
      "The original examples are the natural numbers one  two  three  four  one hundred and so forth \n"
     ]
    }
   ],
   "source": [
    "# remove punctuations\n",
    "import string\n",
    "print(new_str.translate(str.maketrans('','',string.punctuation)))"
   ]
  },
  {
   "cell_type": "code",
   "execution_count": 38,
   "metadata": {},
   "outputs": [
    {
     "name": "stdout",
     "output_type": "stream",
     "text": [
      "India Hindi Bhārat officially Republic India Hindi Bhārat Gaṇarājya 23 country South Asia It second-most populous country seventh-largest country land area populous democracy world Bounded Indian Ocean south Arabian Sea southwest Bay Bengal southeast shares land borders Pakistan west f China Nepal Bhutan north Bangladesh Myanmar east In Indian Ocean India vicinity Sri Lanka Maldives Andaman Nicobar Islands share maritime border Thailand Indonesia\n"
     ]
    }
   ],
   "source": [
    "data = \"India (Hindi: Bhārat), officially the Republic of India (Hindi: Bhārat Gaṇarājya),[23] is a country in South Asia. It is the second-most populous country, the seventh-largest country by land area, and the most populous democracy in the world. Bounded by the Indian Ocean on the south, the Arabian Sea on the southwest, and the Bay of Bengal on the southeast, it shares land borders with Pakistan to the west;[f] China, Nepal, and Bhutan to the north; and Bangladesh and Myanmar to the east. In the Indian Ocean, India is in the vicinity of Sri Lanka and the Maldives; its Andaman and Nicobar Islands share a maritime border with Thailand and Indonesia.\"\n",
    "clean = []\n",
    "# for word in nltk.word_tokenize(data.lower()):\n",
    "#     if word not in stopwords.words('english'):\n",
    "#         if word not in string.punctuation:\n",
    "#             clean.append(word)\n",
    "            \n",
    "clean = [word for word in nltk.word_tokenize(data) if word not in stopwords.words('english') if word not in string.punctuation]\n",
    "new_data = ' '.join(clean)\n",
    "print(new_data)"
   ]
  },
  {
   "cell_type": "code",
   "execution_count": 33,
   "metadata": {},
   "outputs": [
    {
     "name": "stdout",
     "output_type": "stream",
     "text": [
      "india hindi bhārat offici republ india hindi bhārat gaṇarājya 23 countri south asia second-most popul countri seventh-largest countri land area popul democraci world bound indian ocean south arabian sea southwest bay bengal southeast share land border pakistan west f china nepal bhutan north bangladesh myanmar east indian ocean india vicin sri lanka maldiv andaman nicobar island share maritim border thailand indonesia\n"
     ]
    }
   ],
   "source": [
    "# stemming\n",
    "from nltk.stem.porter import PorterStemmer\n",
    "stem = PorterStemmer()\n",
    "clean = [stem.stem(word) for word in nltk.word_tokenize(data.lower()) if word not in stopwords.words('english') if word not in string.punctuation]\n",
    "print(' '.join(clean))"
   ]
  },
  {
   "cell_type": "code",
   "execution_count": 34,
   "metadata": {},
   "outputs": [
    {
     "name": "stdout",
     "output_type": "stream",
     "text": [
      "india hindi bhārat officially republic india hindi bhārat gaṇarājya 23 country south asia second-most populous country seventh-largest country land area populous democracy world bounded indian ocean south arabian sea southwest bay bengal southeast share land border pakistan west f china nepal bhutan north bangladesh myanmar east indian ocean india vicinity sri lanka maldives andaman nicobar island share maritime border thailand indonesia\n"
     ]
    }
   ],
   "source": [
    "# lemmetization\n",
    "from nltk.stem import WordNetLemmatizer\n",
    "lem = WordNetLemmatizer()\n",
    "clean = [lem.lemmatize(word) for word in nltk.word_tokenize(data.lower()) if word not in stopwords.words('english') if word not in string.punctuation]\n",
    "print(' '.join(clean))"
   ]
  },
  {
   "cell_type": "code",
   "execution_count": 39,
   "metadata": {},
   "outputs": [
    {
     "name": "stdout",
     "output_type": "stream",
     "text": [
      "(S\n",
      "  (GPE India/NNP)\n",
      "  (PERSON Hindi/NNP Bhārat/NNP)\n",
      "  officially/RB\n",
      "  (ORGANIZATION Republic/NNP India/NNP Hindi/NNP Bhārat/NNP)\n",
      "  Gaṇarājya/NNP\n",
      "  23/CD\n",
      "  country/NN\n",
      "  (LOCATION South/NNP)\n",
      "  Asia/IN\n",
      "  It/PRP\n",
      "  second-most/RB\n",
      "  populous/JJ\n",
      "  country/NN\n",
      "  seventh-largest/JJ\n",
      "  country/NN\n",
      "  land/NN\n",
      "  area/NN\n",
      "  populous/JJ\n",
      "  democracy/NN\n",
      "  world/NN\n",
      "  Bounded/NNP\n",
      "  Indian/JJ\n",
      "  (GPE Ocean/NNP)\n",
      "  south/NN\n",
      "  (PERSON Arabian/NNP Sea/NNP)\n",
      "  southwest/JJS\n",
      "  (PERSON Bay/NNP Bengal/NNP)\n",
      "  southeast/NN\n",
      "  shares/NNS\n",
      "  land/VBP\n",
      "  borders/NNS\n",
      "  (GPE Pakistan/NNP)\n",
      "  west/JJS\n",
      "  f/JJ\n",
      "  (GPE China/NNP)\n",
      "  Nepal/NNP\n",
      "  Bhutan/NNP\n",
      "  north/JJ\n",
      "  (ORGANIZATION Bangladesh/NNP Myanmar/NNP)\n",
      "  east/NN\n",
      "  In/IN\n",
      "  (GPE Indian/JJ)\n",
      "  (LOCATION Ocean/NNP India/NNP)\n",
      "  vicinity/NN\n",
      "  (PERSON\n",
      "    Sri/NNP\n",
      "    Lanka/NNP\n",
      "    Maldives/NNP\n",
      "    Andaman/NNP\n",
      "    Nicobar/NNP\n",
      "    Islands/NNP)\n",
      "  share/NN\n",
      "  maritime/JJ\n",
      "  border/NN\n",
      "  (GPE Thailand/NNP)\n",
      "  (GPE Indonesia/NNP))\n"
     ]
    }
   ],
   "source": [
    "# NER\n",
    "from nltk import ne_chunk\n",
    "\n",
    "print(nltk.ne_chunk(nltk.pos_tag(nltk.word_tokenize(new_data))))"
   ]
  },
  {
   "cell_type": "code",
   "execution_count": 45,
   "metadata": {},
   "outputs": [
    {
     "name": "stdout",
     "output_type": "stream",
     "text": [
      "The price of \tburger in \tburgerking in \n",
      "Rs. 36.\n",
      "\n",
      "['The', 'price', 'of', 'burger', 'in', 'burgerking', 'in', 'Rs.', '36.']\n"
     ]
    }
   ],
   "source": [
    "# Whitespace tokenization\n",
    "from nltk.tokenize.regexp import WhitespaceTokenizer\n",
    "\n",
    "text = 'The price of \\tburger in \\tburgerking in \\nRs. 36.\\n'\n",
    "print(text)\n",
    "token = WhitespaceTokenizer().tokenize(text)\n",
    "# token = nltk.word_tokenize(text)\n",
    "print(token)"
   ]
  },
  {
   "cell_type": "code",
   "execution_count": 47,
   "metadata": {},
   "outputs": [
    {
     "name": "stdout",
     "output_type": "stream",
     "text": [
      "['The', 'price', 'of', 'burger', 'in', 'burgerking', 'in', 'Rs', '.', '36', '.']\n"
     ]
    }
   ],
   "source": [
    "# punctuation tokenization\n",
    "from nltk.tokenize.regexp import WordPunctTokenizer\n",
    "\n",
    "token = WordPunctTokenizer().tokenize(text)\n",
    "print(token)"
   ]
  },
  {
   "cell_type": "code",
   "execution_count": 55,
   "metadata": {},
   "outputs": [
    {
     "name": "stdout",
     "output_type": "stream",
     "text": [
      "3\n"
     ]
    }
   ],
   "source": [
    "from nltk import FreqDist\n",
    "\n",
    "freq = FreqDist(nltk.word_tokenize(data))\n",
    "print(freq['India'])"
   ]
  },
  {
   "cell_type": "code",
   "execution_count": 61,
   "metadata": {},
   "outputs": [
    {
     "data": {
      "image/png": "[encoded data removed]",
      "text/plain": [
       "<Figure size 1152x432 with 1 Axes>"
      ]
     },
     "metadata": {
      "needs_background": "light"
     },
     "output_type": "display_data"
    },
    {
     "data": {
      "text/plain": [
       "<AxesSubplot:xlabel='Samples', ylabel='Counts'>"
      ]
     },
     "execution_count": 61,
     "metadata": {},
     "output_type": "execute_result"
    }
   ],
   "source": [
    "import matplotlib.pyplot as plt\n",
    "plt.figure(figsize=(16,6))\n",
    "freq.plot()"
   ]
  }
 ],
 "metadata": {
  "kernelspec": {
   "display_name": "Python 3",
   "language": "python",
   "name": "python3"
  },
  "language_info": {
   "codemirror_mode": {
    "name": "ipython",
    "version": 3
   },
   "file_extension": ".py",
   "mimetype": "text/x-python",
   "name": "python",
   "nbconvert_exporter": "python",
   "pygments_lexer": "ipython3",
   "version": "3.8.5"
  }
 },
 "nbformat": 4,
 "nbformat_minor": 4
}
